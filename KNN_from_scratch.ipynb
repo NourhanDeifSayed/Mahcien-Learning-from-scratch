{
  "nbformat": 4,
  "nbformat_minor": 0,
  "metadata": {
    "colab": {
      "provenance": [],
      "gpuType": "T4",
      "authorship_tag": "ABX9TyM2W9NdcxBANfj4fyXdseYt",
      "include_colab_link": true
    },
    "kernelspec": {
      "name": "python3",
      "display_name": "Python 3"
    },
    "language_info": {
      "name": "python"
    },
    "accelerator": "GPU"
  },
  "cells": [
    {
      "cell_type": "markdown",
      "metadata": {
        "id": "view-in-github",
        "colab_type": "text"
      },
      "source": [
        "<a href=\"https://colab.research.google.com/github/NourhanDeifSayed/Mahcien-Learning-from-scratch/blob/main/KNN_from_scratch.ipynb\" target=\"_parent\"><img src=\"https://colab.research.google.com/assets/colab-badge.svg\" alt=\"Open In Colab\"/></a>"
      ]
    },
    {
      "cell_type": "code",
      "execution_count": null,
      "metadata": {
        "colab": {
          "base_uri": "https://localhost:8080/"
        },
        "id": "cyXG4PB7wMPr",
        "outputId": "a945c380-7042-454c-9fc4-1ef575ece4e2"
      },
      "outputs": [
        {
          "output_type": "stream",
          "name": "stdout",
          "text": [
            "Requirement already satisfied: seaborn in /usr/local/lib/python3.10/dist-packages (0.13.1)\n",
            "Requirement already satisfied: numpy!=1.24.0,>=1.20 in /usr/local/lib/python3.10/dist-packages (from seaborn) (1.25.2)\n",
            "Requirement already satisfied: pandas>=1.2 in /usr/local/lib/python3.10/dist-packages (from seaborn) (1.5.3)\n",
            "Requirement already satisfied: matplotlib!=3.6.1,>=3.4 in /usr/local/lib/python3.10/dist-packages (from seaborn) (3.7.1)\n",
            "Requirement already satisfied: contourpy>=1.0.1 in /usr/local/lib/python3.10/dist-packages (from matplotlib!=3.6.1,>=3.4->seaborn) (1.2.0)\n",
            "Requirement already satisfied: cycler>=0.10 in /usr/local/lib/python3.10/dist-packages (from matplotlib!=3.6.1,>=3.4->seaborn) (0.12.1)\n",
            "Requirement already satisfied: fonttools>=4.22.0 in /usr/local/lib/python3.10/dist-packages (from matplotlib!=3.6.1,>=3.4->seaborn) (4.49.0)\n",
            "Requirement already satisfied: kiwisolver>=1.0.1 in /usr/local/lib/python3.10/dist-packages (from matplotlib!=3.6.1,>=3.4->seaborn) (1.4.5)\n",
            "Requirement already satisfied: packaging>=20.0 in /usr/local/lib/python3.10/dist-packages (from matplotlib!=3.6.1,>=3.4->seaborn) (23.2)\n",
            "Requirement already satisfied: pillow>=6.2.0 in /usr/local/lib/python3.10/dist-packages (from matplotlib!=3.6.1,>=3.4->seaborn) (9.4.0)\n",
            "Requirement already satisfied: pyparsing>=2.3.1 in /usr/local/lib/python3.10/dist-packages (from matplotlib!=3.6.1,>=3.4->seaborn) (3.1.1)\n",
            "Requirement already satisfied: python-dateutil>=2.7 in /usr/local/lib/python3.10/dist-packages (from matplotlib!=3.6.1,>=3.4->seaborn) (2.8.2)\n",
            "Requirement already satisfied: pytz>=2020.1 in /usr/local/lib/python3.10/dist-packages (from pandas>=1.2->seaborn) (2023.4)\n",
            "Requirement already satisfied: six>=1.5 in /usr/local/lib/python3.10/dist-packages (from python-dateutil>=2.7->matplotlib!=3.6.1,>=3.4->seaborn) (1.16.0)\n"
          ]
        }
      ],
      "source": [
        " #our first step import impoertant packedges\n",
        "from sklearn.datasets import load_iris\n",
        "from sklearn.model_selection import train_test_split\n",
        "from sklearn.neighbors import KNeighborsClassifier\n",
        "from sklearn.metrics import accuracy_score\n",
        "import numpy as np\n",
        "import pandas as pd\n",
        "\n",
        "from collections import Counter\n",
        "\n",
        "from sklearn.metrics import accuracy_score\n",
        "!pip install seaborn\n",
        "import seaborn as sns\n",
        "\n",
        "from sklearn.metrics import accuracy_score\n",
        "\n"
      ]
    },
    {
      "cell_type": "code",
      "source": [
        "iris=load_iris()\n",
        "data=iris.data\n",
        "target=iris.target\n",
        "X_train,X_test,y_train,y_test=train_test_split(data,target,test_size=0.2)\n",
        "print(X_train.shape)"
      ],
      "metadata": {
        "colab": {
          "base_uri": "https://localhost:8080/"
        },
        "id": "hCMX98S01w1I",
        "outputId": "381e2a61-8454-4c8c-de77-3e6223052679"
      },
      "execution_count": null,
      "outputs": [
        {
          "output_type": "stream",
          "name": "stdout",
          "text": [
            "(120, 4)\n"
          ]
        }
      ]
    },
    {
      "cell_type": "code",
      "source": [
        "\n",
        "X_train = np.asarray(X_train)\n",
        "y_train = np.asarray(y_train)\n",
        "\n",
        "X_test = np.asarray(X_test)\n",
        "y_test = np.asarray(y_test)"
      ],
      "metadata": {
        "id": "N2fI73Ij8-Y2"
      },
      "execution_count": null,
      "outputs": []
    },
    {
      "cell_type": "code",
      "source": [
        "def Euclidean_distance(X_train, X_test):\n",
        "    distances = []\n",
        "    for row in range(len(X_train)):\n",
        "        current_train_point = X_train[row]\n",
        "        if isinstance(current_train_point, np.ndarray):\n",
        "            current_distance = np.sqrt(np.sum((current_train_point - X_test) ** 2))\n",
        "        else:\n",
        "            current_distance = np.abs(current_train_point - X_test)\n",
        "        distances.append(current_distance)\n",
        "    return np.array(distances)\n",
        "\n"
      ],
      "metadata": {
        "id": "04wKnMsG2cLZ"
      },
      "execution_count": null,
      "outputs": []
    },
    {
      "cell_type": "code",
      "source": [
        "def Neighrest_neighbors(distance_point, k_val):\n",
        "    df_distance = pd.DataFrame({'dist': distance_point, 'index': range(len(distance_point))})\n",
        "\n",
        "\n",
        "    df_nearest = df_distance.sort_values(by='dist')\n",
        "\n",
        "\n",
        "    df_nearest = df_nearest.head(k_val)\n",
        "\n",
        "    return df_nearest\n"
      ],
      "metadata": {
        "id": "iieHbsqS4jAN"
      },
      "execution_count": null,
      "outputs": []
    },
    {
      "cell_type": "code",
      "source": [
        "from collections import Counter\n",
        "from itertools import count\n",
        "def voting(df_nearest,y_train):\n",
        "  counter_vote=Counter(y_train[df_nearest.index])\n",
        "  y_perd=counter_vote.most_common()[0][0]\n",
        "  return y_perd"
      ],
      "metadata": {
        "id": "moynA4XA5gHJ"
      },
      "execution_count": null,
      "outputs": []
    },
    {
      "cell_type": "code",
      "source": [
        "def KNN(X_train, y_train, X_test, K_va):\n",
        "    y_pred = []\n",
        "    for test in X_test:\n",
        "        distance_point = Euclidean_distance(X_train, test)\n",
        "        nearest_point = Neighrest_neighbors(distance_point, K_va)\n",
        "        y_perd_point = voting(nearest_point, y_train)\n",
        "        y_pred.append(y_perd_point)\n",
        "    return y_pred\n",
        "\n"
      ],
      "metadata": {
        "id": "0Ri6NnmO6OQI"
      },
      "execution_count": null,
      "outputs": []
    },
    {
      "cell_type": "code",
      "source": [
        "print(\"X train before Normalization\")\n",
        "print(X_train[0:7])\n",
        "print(\"\\nX train after Normalization\")\n",
        "print(normalized_X_train[0:7])"
      ],
      "metadata": {
        "colab": {
          "base_uri": "https://localhost:8080/"
        },
        "id": "Jn6RufAsFYJ_",
        "outputId": "a188c717-0c68-464d-ea9a-dd16702823df"
      },
      "execution_count": null,
      "outputs": [
        {
          "output_type": "stream",
          "name": "stdout",
          "text": [
            "X train before Normalization\n",
            "[[6.3 2.8 5.1 1.5]\n",
            " [5.2 4.1 1.5 0.1]\n",
            " [6.  3.  4.8 1.8]\n",
            " [5.1 3.7 1.5 0.4]\n",
            " [6.1 2.9 4.7 1.4]\n",
            " [6.2 2.9 4.3 1.3]\n",
            " [5.9 3.2 4.8 1.8]]\n",
            "\n",
            "X train after Normalization\n",
            "[[0.61111111 0.45454545 0.81355932 0.875     ]\n",
            " [0.36111111 0.45454545 0.59322034 0.58333333]\n",
            " [0.16666667 0.5        0.08474576 0.04166667]\n",
            " [0.25       0.63636364 0.06779661 0.04166667]\n",
            " [0.36111111 0.40909091 0.44067797 0.5       ]\n",
            " [0.41666667 0.31818182 0.69491525 0.75      ]\n",
            " [0.44444444 0.54545455 0.6440678  0.70833333]]\n"
          ]
        }
      ]
    },
    {
      "cell_type": "code",
      "source": [
        "k_val=3\n",
        "from sklearn.preprocessing import MinMaxScaler\n",
        "\n",
        "\n",
        "prediction=KNN(X_test,y_train,X_train,k_val)\n",
        "print(prediction)\n"
      ],
      "metadata": {
        "colab": {
          "base_uri": "https://localhost:8080/"
        },
        "id": "B9O2N3oME79A",
        "outputId": "d32e8429-cf65-4416-c4d9-cd1992152f03"
      },
      "execution_count": null,
      "outputs": [
        {
          "output_type": "stream",
          "name": "stdout",
          "text": [
            "[1, 0, 1, 0, 0, 2, 1, 1, 1, 2, 2, 0, 1, 2, 0, 1, 0, 2, 1, 2, 0, 2, 2, 2, 2, 2, 2, 2, 0, 0, 2, 2, 2, 1, 0, 0, 1, 1, 2, 1, 2, 2, 1, 1, 1, 1, 2, 2, 0, 1, 1, 1, 2, 0, 2, 1, 0, 1, 1, 2, 2, 2, 0, 0, 2, 2, 1, 1, 2, 0, 2, 1, 2, 2, 2, 0, 1, 2, 1, 2, 2, 0, 2, 1, 2, 1, 2, 2, 1, 1, 2, 0, 1, 0, 1, 0, 1, 1, 1, 2, 1, 2, 2, 2, 2, 2, 0, 1, 2, 1, 2, 2, 0, 2, 2, 1, 1, 0, 1, 0]\n"
          ]
        }
      ]
    },
    {
      "cell_type": "code",
      "source": [
        "k_val=3\n",
        "from sklearn.preprocessing import MinMaxScaler\n",
        "scaler = MinMaxScaler()\n",
        "scaler.fit(X_train)\n",
        "normalized_X_train = scaler.transform(X_train)\n",
        "\n",
        "normalized_X_test = scaler.transform(X_test)\n",
        "\n",
        "prediction=KNN(normalized_X_test,y_train,normalized_X_train,k_val)\n",
        "print(prediction)\n",
        "\n",
        "acc = np.sum(np.array(KNN(normalized_X_train, y_train, normalized_X_test, k_val)) == y_test) / len(y_test)\n",
        "print(\"Accuracy:\", acc*100)\n",
        "\n"
      ],
      "metadata": {
        "colab": {
          "base_uri": "https://localhost:8080/"
        },
        "id": "ivvFqDYM8Vl2",
        "outputId": "51b53e27-a41b-4ca4-b1e4-7e5a2db38fd2"
      },
      "execution_count": null,
      "outputs": [
        {
          "output_type": "stream",
          "name": "stdout",
          "text": [
            "[1, 0, 1, 0, 2, 2, 1, 1, 1, 2, 2, 1, 1, 2, 0, 0, 2, 0, 1, 2, 0, 2, 2, 2, 2, 2, 2, 2, 0, 0, 2, 0, 2, 1, 1, 0, 1, 1, 1, 0, 2, 0, 1, 1, 0, 1, 2, 1, 2, 1, 1, 1, 2, 2, 2, 1, 0, 1, 2, 1, 0, 0, 0, 0, 2, 2, 1, 1, 1, 0, 2, 1, 2, 2, 2, 0, 1, 2, 1, 2, 2, 0, 0, 1, 0, 1, 2, 2, 1, 1, 2, 0, 1, 0, 0, 0, 1, 1, 1, 2, 1, 2, 2, 1, 1, 1, 0, 1, 2, 1, 2, 2, 0, 2, 0, 1, 1, 1, 1, 0]\n",
            "Accuracy: 100.0\n"
          ]
        }
      ]
    },
    {
      "cell_type": "code",
      "source": [
        "k_val=5\n",
        "from sklearn.preprocessing import MinMaxScaler\n",
        "scaler = MinMaxScaler()\n",
        "scaler.fit(X_train)\n",
        "normalized_X_train = scaler.transform(X_train)\n",
        "\n",
        "normalized_X_test = scaler.transform(X_test)\n",
        "\n",
        "prediction=KNN(normalized_X_test,y_train,normalized_X_train,k_val)\n",
        "print(prediction)\n",
        "acc = np.sum(np.array(KNN(normalized_X_train, y_train, normalized_X_test, k_val)) == y_test) / len(y_test)\n",
        "print(\"Accuracy:\", acc*100)\n"
      ],
      "metadata": {
        "colab": {
          "base_uri": "https://localhost:8080/"
        },
        "id": "f0XyxvdXBzm6",
        "outputId": "14657034-c8a7-44cb-8377-7fea8a5fc32f"
      },
      "execution_count": null,
      "outputs": [
        {
          "output_type": "stream",
          "name": "stdout",
          "text": [
            "[1, 0, 1, 0, 2, 2, 1, 1, 1, 2, 0, 1, 1, 1, 0, 0, 2, 0, 0, 1, 0, 0, 2, 2, 0, 2, 2, 0, 0, 1, 2, 0, 0, 1, 2, 0, 2, 1, 1, 1, 2, 2, 1, 1, 0, 1, 0, 1, 0, 2, 1, 2, 1, 0, 2, 1, 0, 1, 2, 2, 0, 0, 0, 1, 2, 2, 0, 1, 1, 0, 0, 1, 2, 2, 1, 0, 1, 0, 2, 2, 2, 0, 0, 1, 2, 1, 2, 2, 1, 1, 0, 0, 1, 0, 2, 0, 1, 2, 1, 2, 1, 0, 0, 2, 1, 1, 0, 1, 1, 1, 2, 2, 0, 0, 0, 1, 1, 1, 1, 0]\n",
            "Accuracy: 100.0\n"
          ]
        }
      ]
    },
    {
      "cell_type": "code",
      "source": [
        "k_val=7\n",
        "from sklearn.preprocessing import MinMaxScaler\n",
        "scaler = MinMaxScaler()\n",
        "scaler.fit(X_train)\n",
        "normalized_X_train = scaler.transform(X_train)\n",
        "\n",
        "normalized_X_test = scaler.transform(X_test)\n",
        "\n",
        "prediction=KNN(normalized_X_test,y_train,normalized_X_train,k_val)\n",
        "print(prediction)\n",
        "\n",
        "acc = np.sum(np.array(KNN(normalized_X_train, y_train, normalized_X_test, k_val)) == y_test) / len(y_test)\n",
        "print(\"Accuracy:\", acc*100)\n"
      ],
      "metadata": {
        "colab": {
          "base_uri": "https://localhost:8080/"
        },
        "id": "HNkPvrBCB8wX",
        "outputId": "b3d8e211-990f-407a-de97-acadfb56fae9"
      },
      "execution_count": null,
      "outputs": [
        {
          "output_type": "stream",
          "name": "stdout",
          "text": [
            "[1, 2, 1, 0, 2, 2, 1, 1, 2, 2, 2, 1, 1, 1, 0, 1, 2, 0, 1, 1, 0, 2, 2, 2, 0, 2, 2, 2, 0, 1, 2, 2, 2, 1, 2, 0, 2, 1, 1, 0, 2, 2, 1, 2, 0, 1, 2, 1, 0, 1, 2, 2, 0, 0, 2, 2, 0, 1, 2, 2, 0, 0, 0, 1, 2, 2, 0, 2, 2, 0, 0, 1, 2, 2, 1, 0, 1, 0, 2, 2, 2, 2, 0, 2, 2, 1, 2, 2, 1, 1, 2, 0, 1, 0, 2, 0, 1, 2, 1, 2, 1, 2, 2, 2, 2, 1, 0, 1, 1, 2, 2, 2, 2, 2, 2, 2, 1, 1, 1, 0]\n",
            "Accuracy: 100.0\n"
          ]
        }
      ]
    },
    {
      "cell_type": "code",
      "source": [
        "#the output here is same becuase the meaugerments of all features are equvalent"
      ],
      "metadata": {
        "id": "AP3AtUJ_FEdA"
      },
      "execution_count": null,
      "outputs": []
    },
    {
      "cell_type": "code",
      "source": [
        "\n",
        "\n",
        "knn = KNeighborsClassifier(n_neighbors=3)\n",
        "\n",
        "knn.fit(normalized_X_train, y_train)\n",
        "\n",
        "y_pred = knn.predict(normalized_X_test)\n",
        "\n",
        "acc = accuracy_score(y_test, y_pred)\n",
        "print(\"Accuracy:\", acc*100)"
      ],
      "metadata": {
        "colab": {
          "base_uri": "https://localhost:8080/"
        },
        "id": "hpVQzcDeFb4N",
        "outputId": "b59f6d66-a363-4f02-e434-223fd5d5fb62"
      },
      "execution_count": null,
      "outputs": [
        {
          "output_type": "stream",
          "name": "stdout",
          "text": [
            "Accuracy: 100.0\n"
          ]
        }
      ]
    }
  ]
}