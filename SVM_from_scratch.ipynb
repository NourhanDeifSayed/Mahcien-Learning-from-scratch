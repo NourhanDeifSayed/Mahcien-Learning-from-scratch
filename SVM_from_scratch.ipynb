{
  "nbformat": 4,
  "nbformat_minor": 0,
  "metadata": {
    "colab": {
      "private_outputs": true,
      "provenance": [],
      "authorship_tag": "ABX9TyOxwwvPrXS1K0kbCCu7eEQH",
      "include_colab_link": true
    },
    "kernelspec": {
      "name": "python3",
      "display_name": "Python 3"
    },
    "language_info": {
      "name": "python"
    }
  },
  "cells": [
    {
      "cell_type": "markdown",
      "metadata": {
        "id": "view-in-github",
        "colab_type": "text"
      },
      "source": [
        "<a href=\"https://colab.research.google.com/github/NourhanDeifSayed/Mahcien-Learning-from-scratch/blob/main/SVM_from_scratch.ipynb\" target=\"_parent\"><img src=\"https://colab.research.google.com/assets/colab-badge.svg\" alt=\"Open In Colab\"/></a>"
      ]
    },
    {
      "cell_type": "markdown",
      "source": [
        "Aggregation dataset\n"
      ],
      "metadata": {
        "id": "eq8t7h5b74o1"
      }
    },
    {
      "cell_type": "code",
      "source": [
        "import pandas as pd\n",
        "from sklearn.model_selection import train_test_split\n",
        "from sklearn.svm import SVC\n",
        "import numpy as np\n",
        "import matplotlib.pyplot as plt"
      ],
      "metadata": {
        "id": "0wCRFAOx7-NG"
      },
      "execution_count": null,
      "outputs": []
    },
    {
      "cell_type": "code",
      "source": [
        "from mlxtend.preprocessing import shuffle_arrays_unison"
      ],
      "metadata": {
        "id": "7m3jBaDCm55S"
      },
      "execution_count": null,
      "outputs": []
    },
    {
      "cell_type": "code",
      "source": [
        "import pandas as pd\n",
        "\n",
        "try:\n",
        "    df = pd.read_csv('Aggregation.txt', header=None, skiprows=7, delimiter='\\t')\n",
        "except Exception as e:\n",
        "    print(\"Error:\", e)\n",
        "\n",
        "print(df.head())"
      ],
      "metadata": {
        "id": "bOBwmWlMCEPI"
      },
      "execution_count": null,
      "outputs": []
    },
    {
      "cell_type": "code",
      "source": [
        "X = df.iloc[:, :-1].values\n",
        "y = df.iloc[:, -1].values\n",
        "\n",
        "X_train, X_test, y_train, y_test = train_test_split(X, y, test_size=0.2, random_state=42)\n",
        "\n",
        "\n",
        "svm_model = SVC(kernel='rbf')\n",
        "\n",
        "\n",
        "svm_model.fit(X_train, y_train)\n",
        "\n",
        "\n"
      ],
      "metadata": {
        "id": "x7-0mo21qvYz"
      },
      "execution_count": null,
      "outputs": []
    },
    {
      "cell_type": "code",
      "source": [
        "\n",
        "X = df.iloc[:, :-1].values\n",
        "y = df.iloc[:, -1].values\n",
        "\n",
        "\n",
        "\n",
        "\n",
        "\n"
      ],
      "metadata": {
        "id": "MMbr7RIqq6s8"
      },
      "execution_count": null,
      "outputs": []
    },
    {
      "cell_type": "code",
      "source": [
        "\n",
        "X_train, X_test, y_train, y_test = train_test_split(X, y, test_size=0.2, random_state=42)\n",
        "\n",
        "\n",
        "svm_model = SVC(kernel='rbf')\n",
        "\n",
        "\n",
        "svm_model.fit(X_train, y_train)\n"
      ],
      "metadata": {
        "id": "JdlfEaAUt8ko"
      },
      "execution_count": null,
      "outputs": []
    },
    {
      "cell_type": "code",
      "source": [
        "\n",
        "\n",
        "y_pred = svm_model.predict(X_test)\n",
        "\n",
        "\n",
        "accuracy = np.mean(y_pred == y_test)\n",
        "print(\"Accuracy:\", accuracy)"
      ],
      "metadata": {
        "id": "FbB-Td5HC1Dk"
      },
      "execution_count": null,
      "outputs": []
    },
    {
      "cell_type": "code",
      "source": [
        "x_min, x_max = X[:, 0].min() - 1, X[:, 0].max() + 1\n",
        "y_min, y_max = X[:, 1].min() - 1, X[:, 1].max() + 1\n"
      ],
      "metadata": {
        "id": "CU5Ew-WWteju"
      },
      "execution_count": null,
      "outputs": []
    },
    {
      "cell_type": "code",
      "source": [
        "num_points = 3000\n",
        "random_points = np.random.rand(num_points, 2) * [[x_max - x_min, y_max - y_min]] + [x_min, y_min]\n",
        "\n",
        "Z = svm_model.predict(random_points)\n",
        "\n",
        "\n",
        "plt.scatter(random_points[:, 0], random_points[:, 1], c=Z, cmap=plt.cm.Paired, alpha=0.4)\n",
        "\n",
        "\n",
        "plt.scatter(X_train[:, 0], X_train[:, 1], c=y_train, cmap=plt.cm.Paired, edgecolors='k')\n",
        "plt.xlabel('Feature 1')\n",
        "plt.ylabel('Feature 2')\n",
        "\n",
        "plt.show()\n"
      ],
      "metadata": {
        "id": "rWEVkWKHuAcT"
      },
      "execution_count": null,
      "outputs": []
    },
    {
      "cell_type": "markdown",
      "source": [
        "Spiral Dataset\n"
      ],
      "metadata": {
        "id": "ypKD6YCE84Di"
      }
    },
    {
      "cell_type": "code",
      "source": [
        "\n",
        "try:\n",
        "    dff= pd.read_csv('Spiral.txt', header=None, skiprows=7, delimiter='\\t')\n",
        "except Exception as e:\n",
        "    print(\"Error:\", e)"
      ],
      "metadata": {
        "id": "6_AkZXh_88CY"
      },
      "execution_count": null,
      "outputs": []
    },
    {
      "cell_type": "code",
      "source": [
        "X = dff.iloc[:, :-1].values\n",
        "y = dff.iloc[:, -1].values\n"
      ],
      "metadata": {
        "id": "FYYd34Yb88F2"
      },
      "execution_count": null,
      "outputs": []
    },
    {
      "cell_type": "code",
      "source": [
        "\n",
        "X_train, X_test, y_train, y_test = train_test_split(X, y, test_size=0.2, random_state=42)"
      ],
      "metadata": {
        "id": "CFmIlI6b88LG"
      },
      "execution_count": null,
      "outputs": []
    },
    {
      "cell_type": "code",
      "source": [
        "svm_model = SVC(C=1000, kernel='rbf', gamma = 0.01)\n",
        "svm_model.fit(X_train, y_train)\n",
        "\n",
        "x_min, x_max = X[:, 0].min() - 1, X[:, 0].max() + 1\n",
        "y_min, y_max = X[:, 1].min() - 1, X[:, 1].max() + 1\n"
      ],
      "metadata": {
        "id": "1kM-nt0O9VzF"
      },
      "execution_count": null,
      "outputs": []
    },
    {
      "cell_type": "code",
      "source": [
        "num_points = 5000\n",
        "random_points = np.random.rand(num_points, 2) * [[x_max - x_min, y_max - y_min]] + [x_min, y_min]\n",
        "\n",
        "Z = svm_model.predict(random_points)\n",
        "\n",
        "\n",
        "plt.scatter(random_points[:, 0], random_points[:, 1], c=Z, cmap=plt.cm.Paired, alpha=0.8, s=10)\n",
        "\n",
        "\n",
        "plt.scatter(X_train[:, 0], X_train[:, 1], c=y_train, cmap=plt.cm.Paired, edgecolors='none', s=50)\n",
        "plt.xlabel('Feature 1')\n",
        "plt.ylabel('Feature 2')\n",
        "\n",
        "plt.show()\n"
      ],
      "metadata": {
        "id": "jtLQJYYe9gX3"
      },
      "execution_count": null,
      "outputs": []
    },
    {
      "cell_type": "markdown",
      "source": [
        "Jain Dataset\n"
      ],
      "metadata": {
        "id": "szzXwEpE9l3_"
      }
    },
    {
      "cell_type": "code",
      "source": [
        "try:\n",
        "    dfff= pd.read_csv('Jain.txt', header=None, skiprows=7, delimiter='\\t')\n",
        "except Exception as e:\n",
        "    print(\"Error:\", e)"
      ],
      "metadata": {
        "id": "KpqlDMXD93ho"
      },
      "execution_count": null,
      "outputs": []
    },
    {
      "cell_type": "code",
      "source": [
        "X = dfff.iloc[:, :-1].values\n",
        "y = dfff.iloc[:, -1].values\n",
        "\n",
        "\n",
        "X_train, X_test, y_train, y_test = train_test_split(X, y, test_size=0.2, random_state=42)\n",
        "\n"
      ],
      "metadata": {
        "id": "z9FKhD4c94SZ"
      },
      "execution_count": null,
      "outputs": []
    },
    {
      "cell_type": "code",
      "source": [
        "svm_model = SVC(kernel='rbf')\n",
        "\n",
        "\n",
        "svm_model.fit(X_train, y_train)\n",
        "\n",
        "\n",
        "x_min, x_max = X[:, 0].min() - 1, X[:, 0].max() + 1\n",
        "y_min, y_max = X[:, 1].min() - 1, X[:, 1].max() + 1\n",
        "\n",
        "\n",
        "num_points = 2000\n",
        "random_points = np.random.rand(num_points, 2) * [[x_max - x_min, y_max - y_min]] + [x_min, y_min]\n",
        "\n",
        "\n",
        "Z = svm_model.predict(random_points)\n",
        "\n"
      ],
      "metadata": {
        "id": "MJ4eZZJn-F8w"
      },
      "execution_count": null,
      "outputs": []
    },
    {
      "cell_type": "code",
      "source": [
        "\n",
        "plt.scatter(random_points[:, 0], random_points[:, 1], c=Z, cmap=plt.cm.Paired, alpha=0.8, s=10)\n",
        "\n",
        "plt.scatter(X_train[:, 0], X_train[:, 1], c=y_train, cmap=plt.cm.Paired, edgecolors='none', s=30)\n",
        "plt.xlabel('Feature 1')\n",
        "plt.ylabel('Feature 2')\n",
        "\n",
        "plt.show()"
      ],
      "metadata": {
        "id": "VVByXmF8-BcM"
      },
      "execution_count": null,
      "outputs": []
    },
    {
      "cell_type": "markdown",
      "source": [
        "Flame Dataset\n"
      ],
      "metadata": {
        "id": "bW8PLNXY_Dd2"
      }
    },
    {
      "cell_type": "code",
      "source": [
        "\n",
        "try:\n",
        "    df_4= pd.read_csv('Flame.txt', header=None, skiprows=7, delimiter='\\t')\n",
        "except Exception as e:\n",
        "    print(\"Error:\", e)\n"
      ],
      "metadata": {
        "id": "-3SUTN_b-I2K"
      },
      "execution_count": null,
      "outputs": []
    },
    {
      "cell_type": "code",
      "source": [
        "X = df_4.iloc[:, :-1].values\n",
        "y = df_4.iloc[:, -1].values\n"
      ],
      "metadata": {
        "id": "5ZnepASt_JKI"
      },
      "execution_count": null,
      "outputs": []
    },
    {
      "cell_type": "code",
      "source": [
        "\n",
        "X_train, X_test, y_train, y_test = train_test_split(X, y, test_size=0.2, random_state=42)\n",
        "\n",
        "svm_model =SVC(kernel='rbf')\n",
        "\n",
        "svm_model.fit(X_train, y_train)\n",
        "\n",
        "\n",
        "x_min, x_max = X[:, 0].min() - 1, X[:, 0].max() + 1\n",
        "y_min, y_max = X[:, 1].min() - 1, X[:, 1].max() + 1"
      ],
      "metadata": {
        "id": "5t0-dRSQ_NxC"
      },
      "execution_count": null,
      "outputs": []
    },
    {
      "cell_type": "code",
      "source": [
        "num_points = 3000\n",
        "random_points = np.random.rand(num_points, 2) * [[x_max - x_min, y_max - y_min]] + [x_min, y_min]\n",
        "\n",
        "\n",
        "Z = svm_model.predict(random_points)\n",
        "\n",
        "plt.scatter(random_points[:, 0], random_points[:, 1], c=Z, cmap=plt.cm.Paired, alpha=0.8, s=10)\n",
        "\n",
        "plt.scatter(X_train[:, 0], X_train[:, 1], c=y_train, cmap=plt.cm.Paired, edgecolors='none', s=50)\n",
        "plt.xlabel('Feature 1')\n",
        "plt.ylabel('Feature 2')\n",
        "\n",
        "plt.show()"
      ],
      "metadata": {
        "id": "5lwVGLEh_Soq"
      },
      "execution_count": null,
      "outputs": []
    },
    {
      "cell_type": "markdown",
      "source": [
        "Pathbased Dataset\n"
      ],
      "metadata": {
        "id": "SuzY83g-_Y1f"
      }
    },
    {
      "cell_type": "code",
      "source": [
        "\n",
        "try:\n",
        "    df_5= pd.read_csv('Pathbased.txt', header=None, skiprows=7, delimiter='\\t')\n",
        "except Exception as e:\n",
        "    print(\"Error:\", e)"
      ],
      "metadata": {
        "id": "WMYOGRnAAG4o"
      },
      "execution_count": null,
      "outputs": []
    },
    {
      "cell_type": "code",
      "source": [
        "X = df_5.iloc[:, :-1].values\n",
        "y = df_5.iloc[:, -1].values\n"
      ],
      "metadata": {
        "id": "5xTa6m89AVV_"
      },
      "execution_count": null,
      "outputs": []
    },
    {
      "cell_type": "code",
      "source": [
        "X_train, X_test, y_train, y_test = train_test_split(X, y, test_size=0.2, random_state=42)"
      ],
      "metadata": {
        "id": "m_tWlfrIAXdl"
      },
      "execution_count": null,
      "outputs": []
    },
    {
      "cell_type": "code",
      "source": [
        "svm_model = SVC(kernel='rbf')\n",
        "\n",
        "\n",
        "svm_model.fit(X_train, y_train)\n",
        "\n",
        "\n",
        "x_min, x_max = X[:, 0].min() - 1, X[:, 0].max() + 1\n",
        "y_min, y_max = X[:, 1].min() - 1, X[:, 1].max() + 1"
      ],
      "metadata": {
        "id": "yixH6kluAaMj"
      },
      "execution_count": null,
      "outputs": []
    },
    {
      "cell_type": "code",
      "source": [
        "num_points = 1000\n",
        "random_points = np.random.rand(num_points, 2) * [[x_max - x_min, y_max - y_min]] + [x_min, y_min]\n",
        "\n",
        "\n",
        "Z = svm_model.predict(random_points)\n",
        "\n",
        "\n",
        "plt.scatter(random_points[:, 0], random_points[:, 1], c=Z, cmap=plt.cm.Paired, alpha=0.8, s=10)\n",
        "\n",
        "\n",
        "plt.scatter(X_train[:, 0], X_train[:, 1], c=y_train, cmap=plt.cm.Paired, edgecolors='none', s=50)\n",
        "plt.xlabel('Feature 1')\n",
        "plt.ylabel('Feature 2')\n",
        "\n",
        "plt.show()\n"
      ],
      "metadata": {
        "id": "41kT6nSqAfxz"
      },
      "execution_count": null,
      "outputs": []
    },
    {
      "cell_type": "markdown",
      "source": [
        "Compound dataset"
      ],
      "metadata": {
        "id": "GDcX7t3LEPgM"
      }
    },
    {
      "cell_type": "code",
      "source": [
        "\n",
        "try:\n",
        "    df_6= pd.read_csv('Compound.txt', header=None, skiprows=7, delimiter='\\t')\n",
        "except Exception as e:\n",
        "    print(\"Error:\", e)\n",
        "\n",
        "\n",
        "\n"
      ],
      "metadata": {
        "id": "5A4WM6pEEOdw"
      },
      "execution_count": null,
      "outputs": []
    },
    {
      "cell_type": "code",
      "source": [
        "\n",
        "X = df_6.iloc[:, :-1].values\n",
        "y = df_6.iloc[:, -1].values"
      ],
      "metadata": {
        "id": "QR0yhvGWFci_"
      },
      "execution_count": null,
      "outputs": []
    },
    {
      "cell_type": "code",
      "source": [
        "X_train, X_test, y_train, y_test = train_test_split(X, y, test_size=0.2, random_state=42)\n"
      ],
      "metadata": {
        "id": "hViSjKfSFg2Y"
      },
      "execution_count": null,
      "outputs": []
    },
    {
      "cell_type": "code",
      "source": [
        "\n",
        "svm_model = SVC(C=10, kernel='rbf', gamma=0.05)\n",
        "X_train, X_test, y_train, y_test = train_test_split(X, y, test_size=0.2, random_state=42)\n",
        "\n",
        "\n",
        "svm_model = SVC(C=10, kernel='rbf', gamma=0.05)\n"
      ],
      "metadata": {
        "id": "7j3QTvPlFhZb"
      },
      "execution_count": null,
      "outputs": []
    },
    {
      "cell_type": "code",
      "source": [
        "\n",
        "svm_model.fit(X_train, y_train)\n",
        "\n",
        "\n",
        "x_min, x_max = X[:, 0].min() - 1, X[:, 0].max() + 1\n",
        "y_min, y_max = X[:, 1].min() - 1, X[:, 1].max() + 1\n",
        "\n",
        "\n",
        "num_points = 4000\n",
        "random_points = np.random.rand(num_points, 2) * [[x_max - x_min, y_max - y_min]] + [x_min, y_min]"
      ],
      "metadata": {
        "id": "NpY3jRGUFmFE"
      },
      "execution_count": null,
      "outputs": []
    },
    {
      "cell_type": "code",
      "source": [
        "\n",
        "Z = svm_model.predict(random_points)\n",
        "\n",
        "plt.scatter(random_points[:, 0], random_points[:, 1], c=Z, cmap=plt.cm.Paired, alpha=0.8, s=10)\n",
        "\n",
        "\n",
        "plt.scatter(X_train[:, 0], X_train[:, 1], c=y_train, cmap=plt.cm.Paired, edgecolors='none', s=50)\n",
        "plt.xlabel('Feature 1')\n",
        "plt.ylabel('Feature 2')\n",
        "\n",
        "plt.show()\n"
      ],
      "metadata": {
        "id": "09L8VVxRFrzg"
      },
      "execution_count": null,
      "outputs": []
    }
  ]
}