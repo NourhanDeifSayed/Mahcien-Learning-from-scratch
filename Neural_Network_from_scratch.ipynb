{
  "nbformat": 4,
  "nbformat_minor": 0,
  "metadata": {
    "colab": {
      "private_outputs": true,
      "provenance": [],
      "authorship_tag": "ABX9TyOKfuA50eEQTpudTaiKxxvI",
      "include_colab_link": true
    },
    "kernelspec": {
      "name": "python3",
      "display_name": "Python 3"
    },
    "language_info": {
      "name": "python"
    }
  },
  "cells": [
    {
      "cell_type": "markdown",
      "metadata": {
        "id": "view-in-github",
        "colab_type": "text"
      },
      "source": [
        "<a href=\"https://colab.research.google.com/github/NourhanDeifSayed/Mahcien-Learning-from-scratch/blob/main/Neural_Network_from_scratch.ipynb\" target=\"_parent\"><img src=\"https://colab.research.google.com/assets/colab-badge.svg\" alt=\"Open In Colab\"/></a>"
      ]
    },
    {
      "cell_type": "code",
      "execution_count": null,
      "metadata": {
        "id": "6JBPbcqADNui"
      },
      "outputs": [],
      "source": [
        "from keras.datasets import mnist\n",
        "\n",
        "\n",
        "(train_X, train_y), (test_X, test_y) = mnist.load_data()\n",
        "\n",
        "print('X_train: ' + str(train_X.shape))\n",
        "print('Y_train: ' + str(train_y.shape))\n",
        "print('X_test:  '  + str(test_X.shape))\n",
        "print('Y_test:  '  + str(test_y.shape))"
      ]
    },
    {
      "cell_type": "code",
      "source": [
        "from matplotlib import pyplot\n",
        "for i in range(9):\n",
        "  pyplot.subplot(330 + 1 + i)\n",
        "  pyplot.imshow(train_X[i], cmap=pyplot.get_cmap('gray'))\n",
        "  pyplot.show()"
      ],
      "metadata": {
        "id": "zqIEHPwTDO7A"
      },
      "execution_count": null,
      "outputs": []
    },
    {
      "cell_type": "code",
      "source": [
        "import pandas as pd\n",
        "\n",
        "import numpy as np\n"
      ],
      "metadata": {
        "id": "SRBxWigdEfB4"
      },
      "execution_count": null,
      "outputs": []
    },
    {
      "cell_type": "code",
      "source": [
        "class NueralNetwork:\n",
        "  def __init__(self,num_inputs,num_hidden,num_output):\n",
        "    self.input_size=num_inputs\n",
        "    self.hidden_size= num_hidden\n",
        "    self.output_size=num_output\n",
        "\n",
        "    self.wieght_input_hidden=np.random.rand(self.input_size,self.hidden_size)\n",
        "    self.bias_hidden=np.zeros((1,self.hidden_size))\n",
        "    self.wieght_hidden_output=np.random.rand(self.hidden_size,self.output_size)\n",
        "    self.bias_output=np.zeros((1,self.output_size))\n",
        "\n",
        "\n",
        "  def segmoid(self,X):\n",
        "    return 1/(1+np.exp(-X))\n",
        "\n",
        "  def feedForward(self,inputs):\n",
        "    hidden_inputs=np.dot(inputs,self.wieght_input_hidden)+self.bias_hidden\n",
        "    hidden_outputs=self.segmoid(hidden_inputs)\n",
        "\n",
        "    inputs=np.dot(hidden_outputs,self.wieght_hidden_output)+self.bias_output\n",
        "    outputs=self.segmoid(inputs)\n",
        "\n",
        "    return outputs\n",
        "\n",
        "  def backward(self,inputs,Outputs,targets):\n",
        "    error=target-Outputs\n",
        "    Gradiant_output=Outputs * self.segmoid_derivative(Outputs)\n",
        "    self.wieght_hidden_output += np.dot(hidden_outputs.T , Gradiant_output)\n",
        "    self.bias_output +=np.sum(Gradiant_output , axis=0 , keepdims=True)\n",
        "    error_hidden=np.dot(Gradiant_output , self.wieght_hidden_output.T)\n",
        "    Gradien_hidden=error_hidden * self.segmoid_derivative(hidden_outputs)\n",
        "    self.wieght_input_hidden +=np.dot(inputs.T , Gradien_hidden)\n",
        "    self.bias_hidden +=np.sum(Gradien_hidden , axis==0 , keepdims= True)\n",
        "\n"
      ],
      "metadata": {
        "id": "as-sPKMZElqA"
      },
      "execution_count": null,
      "outputs": []
    },
    {
      "cell_type": "code",
      "source": [
        "from sklearn.metrics import confusion_matrix, accuracy_score"
      ],
      "metadata": {
        "id": "syRGAkxpPV5n"
      },
      "execution_count": null,
      "outputs": []
    },
    {
      "cell_type": "code",
      "source": [
        "X_train = train_X.reshape(train_X.shape[0], -1) / 255.0\n",
        "X_test = test_X.reshape(test_X.shape[0], -1) / 255.0"
      ],
      "metadata": {
        "id": "ftIVg62JQN8c"
      },
      "execution_count": null,
      "outputs": []
    },
    {
      "cell_type": "code",
      "source": [
        "y_train = train_y.astype(np.uint8)\n",
        "y_test = test_y.astype(np.uint8)"
      ],
      "metadata": {
        "id": "98T77hZ0QY1_"
      },
      "execution_count": null,
      "outputs": []
    },
    {
      "cell_type": "code",
      "source": [
        "input_size = X_train.shape[1]\n",
        "hidden_size = 120\n",
        "output_size = 10\n",
        "model =NueralNetwork(input_size, hidden_size, output_size)"
      ],
      "metadata": {
        "id": "BJQBmwp1QbC8"
      },
      "execution_count": null,
      "outputs": []
    },
    {
      "cell_type": "code",
      "source": [
        "def predict(model, X):\n",
        "    predictions = []\n",
        "    for x in X:\n",
        "        output = model.feedForward(x)\n",
        "        predictions.append(np.argmax(output))\n",
        "    return np.array(predictions)"
      ],
      "metadata": {
        "id": "Mapwbmt8Qi-2"
      },
      "execution_count": null,
      "outputs": []
    },
    {
      "cell_type": "code",
      "source": [
        "y_pred = predict(model, X_test)\n",
        "\n",
        "conf_matrix = confusion_matrix(y_test, y_pred)\n",
        "\n",
        "accuracy = accuracy_score(y_test, y_pred)\n",
        "\n",
        "print(\"Confusion Matrix:\")\n",
        "print(conf_matrix)\n",
        "print(\"Accuracy:\", accuracy)\n"
      ],
      "metadata": {
        "id": "Y3kWv2OgQl6O"
      },
      "execution_count": null,
      "outputs": []
    }
  ]
}